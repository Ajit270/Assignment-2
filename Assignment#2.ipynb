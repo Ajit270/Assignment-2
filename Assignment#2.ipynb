{
 "cells": [
  {
   "cell_type": "code",
   "execution_count": null,
   "metadata": {},
   "outputs": [],
   "source": [
    "# Task 1:\n"
   ]
  },
  {
   "cell_type": "markdown",
   "metadata": {},
   "source": [
    " 1.1 : Write a Python Program to implement your own myreduce() function which works exactly likePython's built-in function reduce()"
   ]
  },
  {
   "cell_type": "code",
   "execution_count": 38,
   "metadata": {},
   "outputs": [
    {
     "name": "stdout",
     "output_type": "stream",
     "text": [
      " R1 by using reduce() :  45\n",
      " R2 by using reduce() :  362880\n"
     ]
    }
   ],
   "source": [
    "List1 = [1,2,3,4,5,6,7,8,9]\n",
    "\n",
    "# Built-In Reduce fucntion \n",
    "\n",
    "from functools import reduce\n",
    "R1 = reduce(lambda a,b : a+b,List1)\n",
    "R2 = reduce(lambda a,b : a*b,List1)\n",
    "\n",
    "print(\" R1 by using reduce() : \",R1)\n",
    "print(\" R2 by using reduce() : \",R2)"
   ]
  },
  {
   "cell_type": "code",
   "execution_count": 39,
   "metadata": {},
   "outputs": [],
   "source": [
    "# myreduce fucntion\n",
    "\n",
    "def myreduce(myfunc,myseq):\n",
    "    result=myseq[0]\n",
    "    for i in myseq[1:]:\n",
    "        result=myfunc(result,i)\n",
    "    return result"
   ]
  },
  {
   "cell_type": "code",
   "execution_count": 40,
   "metadata": {},
   "outputs": [
    {
     "name": "stdout",
     "output_type": "stream",
     "text": [
      " R1 by using myreduce() :  45\n",
      " R2 by using myreduce() :  362880\n"
     ]
    }
   ],
   "source": [
    "R1 = myreduce(lambda a,b : a+b,List1)\n",
    "R2 = myreduce(lambda a,b : a*b,List1)\n",
    "\n",
    "print(\" R1 by using myreduce() : \",R1)\n",
    "print(\" R2 by using myreduce() : \",R2)"
   ]
  },
  {
   "cell_type": "markdown",
   "metadata": {},
   "source": [
    " 1.2 : Write a Python program to implement your own myfilter() function which works exactly like\n",
    "Python's built-in function filter()\n"
   ]
  },
  {
   "cell_type": "code",
   "execution_count": 41,
   "metadata": {},
   "outputs": [
    {
     "name": "stdout",
     "output_type": "stream",
     "text": [
      "even_list by using Built in filter() :  [12, 44, 56, 900]\n"
     ]
    }
   ],
   "source": [
    "List2 = [12,11,23,44,56,55,89,900,891,121,343]\n",
    "\n",
    "# Built_in filter fucntion\n",
    "\n",
    "even_list =list(filter(lambda a: a%2==0,List2))\n",
    "\n",
    "print('even_list by using Built in filter() : ',even_list)"
   ]
  },
  {
   "cell_type": "code",
   "execution_count": 42,
   "metadata": {},
   "outputs": [],
   "source": [
    "#myfiler() function\n",
    "\n",
    "def myfilter(myfun,myseq):\n",
    "    result = []\n",
    "    for i in myseq:\n",
    "        if myfun(i):\n",
    "             result.append(i)\n",
    "    return result"
   ]
  },
  {
   "cell_type": "code",
   "execution_count": 43,
   "metadata": {},
   "outputs": [
    {
     "name": "stdout",
     "output_type": "stream",
     "text": [
      "even_list by using Built in myfilter() :  [12, 44, 56, 900]\n"
     ]
    }
   ],
   "source": [
    "even_list =myfilter(lambda a: a%2==0,List2)\n",
    "\n",
    "print('even_list by using Built in myfilter() : ',even_list)"
   ]
  },
  {
   "cell_type": "markdown",
   "metadata": {},
   "source": [
    "2.Implement List comprehensions to produce the following lists.Write List comprehensions to produce the following Lists"
   ]
  },
  {
   "cell_type": "code",
   "execution_count": 44,
   "metadata": {},
   "outputs": [
    {
     "name": "stdout",
     "output_type": "stream",
     "text": [
      "['A', 'C', 'A', 'D', 'G', 'I', 'L', 'D']\n"
     ]
    }
   ],
   "source": [
    "# ['A', 'C', 'A', 'D', 'G', 'I', ’L’, ‘ D’]\n",
    "\n",
    "L1=[ i for i in 'ACADGILD'] \n",
    "print(L1)"
   ]
  },
  {
   "cell_type": "code",
   "execution_count": 45,
   "metadata": {},
   "outputs": [
    {
     "name": "stdout",
     "output_type": "stream",
     "text": [
      "['x', 'xx', 'xxx', 'xxxx', 'y', 'yy', 'yyy', 'yyyy', 'z', 'zz', 'zzz', 'zzzz']\n"
     ]
    }
   ],
   "source": [
    "# ['x', 'xx', 'xxx', 'xxxx', 'y', 'yy', 'yyy', 'yyyy', 'z', 'zz', 'zzz', 'zzzz']\n",
    "\n",
    "L2 = [i*j for i in 'xyz' for j in range(1,5)]\n",
    "print(L2)"
   ]
  },
  {
   "cell_type": "code",
   "execution_count": 46,
   "metadata": {},
   "outputs": [
    {
     "name": "stdout",
     "output_type": "stream",
     "text": [
      "['x', 'y', 'z', 'xx', 'yy', 'zz', 'xxx', 'yyy', 'zzz', 'xxxx', 'yyyy', 'zzzz']\n"
     ]
    }
   ],
   "source": [
    "# ['x', 'y', 'z', 'xx', 'yy', 'zz', 'xxx', 'yyy', 'zzz', 'xxxx', 'yyyy', 'zzzz']\n",
    "\n",
    "L3 = [ j*i for i in range(1,5) for j in 'xyz']\n",
    "print(L3)\n"
   ]
  },
  {
   "cell_type": "code",
   "execution_count": 47,
   "metadata": {},
   "outputs": [
    {
     "name": "stdout",
     "output_type": "stream",
     "text": [
      "[[2], [3], [4], [3], [4], [5], [4], [5], [6]]\n"
     ]
    }
   ],
   "source": [
    "# [[2], [3], [4], [3], [4], [5], [4], [5], [6]]\n",
    "\n",
    "L4 = [[i+j] for i in range(1,4) for j in range(1,4)]\n",
    "print(L4)"
   ]
  },
  {
   "cell_type": "code",
   "execution_count": 48,
   "metadata": {},
   "outputs": [
    {
     "name": "stdout",
     "output_type": "stream",
     "text": [
      "[[2, 3, 4, 5], [3, 4, 5, 6], [4, 5, 6, 7], [5, 6, 7, 8]]\n"
     ]
    }
   ],
   "source": [
    "# [[2, 3, 4, 5], [3, 4, 5, 6], [4, 5, 6, 7], [5, 6, 7, 8]]\n",
    "\n",
    "L5 = [[i +j for i in range(1,5)] for j in range(1,5)]\n",
    "print(L5)"
   ]
  },
  {
   "cell_type": "code",
   "execution_count": 49,
   "metadata": {},
   "outputs": [
    {
     "name": "stdout",
     "output_type": "stream",
     "text": [
      "[(1,), (2,), (3,), (1,), (2,), (3,), (1,), (2,), (3,)]\n"
     ]
    }
   ],
   "source": [
    "# [(1, 1), (2, 1), (3, 1), (1, 2), (2, 2), (3, 2), (1, 3), (2, 3), (3, 3)]\n",
    "\n",
    "L6 = [(j,) for i in  range(1,4) for j in range(1,4)]\n",
    "print(L6)"
   ]
  },
  {
   "cell_type": "markdown",
   "metadata": {},
   "source": [
    "3.Implement a function longestWord() that takes a list of words and returns the longest one."
   ]
  },
  {
   "cell_type": "code",
   "execution_count": 53,
   "metadata": {},
   "outputs": [],
   "source": [
    "def longestWord(myseq):\n",
    "    maxlen = 0\n",
    "    for i in myseq:\n",
    "         if len(i) > maxlen:\n",
    "                maxlen= len(i)\n",
    "                maxword = i\n",
    "    return maxword\n",
    "            "
   ]
  },
  {
   "cell_type": "code",
   "execution_count": 54,
   "metadata": {},
   "outputs": [
    {
     "name": "stdout",
     "output_type": "stream",
     "text": [
      "Please enter the list of the words : This is my second python Assignment\n",
      "Longest word entered is Assignment\n"
     ]
    }
   ],
   "source": [
    "iprlist = input('Please enter the list of the words : ')\n",
    "iplist = iprlist.split(' ',iprlist.count(' '))\n",
    "\n",
    "lonword = longestWord(iplist)\n",
    "print('Longest word entered is {}'.format(lonword) )"
   ]
  },
  {
   "cell_type": "code",
   "execution_count": null,
   "metadata": {},
   "outputs": [],
   "source": [
    "# Task 2:"
   ]
  },
  {
   "cell_type": "markdown",
   "metadata": {},
   "source": [
    "1.1 : Write a Python Program(with class concepts) to find the area of the triangle using the below\n",
    "formula.area = (s*(s-a)*(s-b)*(s-c)) ** 0.5 Function to take the length of the sides of triangle from user should be defined in the parent class and function to calculate the area should be defined in subclass."
   ]
  },
  {
   "cell_type": "code",
   "execution_count": 55,
   "metadata": {},
   "outputs": [],
   "source": [
    "class Traingle():\n",
    "    def getsides(self):\n",
    "        self.a=float(input('Enter the first side of Traingle :'))\n",
    "        self.b=float(input('Enter the second side of Traingle :'))\n",
    "        self.c=float(input('Enter the Third side of Traingle :'))\n",
    "    def __str__(self):\n",
    "        return('Three side of traingle : {},{},{}'.format(self.a,self.b,self.c))"
   ]
  },
  {
   "cell_type": "code",
   "execution_count": 56,
   "metadata": {},
   "outputs": [],
   "source": [
    "class Area(Traingle):\n",
    "    def cal_area(self):\n",
    "        s= (self.a + self.b + self.c)/2\n",
    "        area = (s*(s-self.a)*(s-self.b)*(s-self.c))**0.5\n",
    "        print( 'Area of the Traingle is {:.3f} square unit.'.format(area))\n",
    "        #  print(area)"
   ]
  },
  {
   "cell_type": "code",
   "execution_count": 57,
   "metadata": {},
   "outputs": [],
   "source": [
    "A1= Area()"
   ]
  },
  {
   "cell_type": "code",
   "execution_count": 58,
   "metadata": {},
   "outputs": [
    {
     "name": "stdout",
     "output_type": "stream",
     "text": [
      "Enter the first side of Traingle :20\n",
      "Enter the second side of Traingle :20\n",
      "Enter the Third side of Traingle :10\n"
     ]
    }
   ],
   "source": [
    "A1.getsides()"
   ]
  },
  {
   "cell_type": "code",
   "execution_count": 59,
   "metadata": {},
   "outputs": [
    {
     "name": "stdout",
     "output_type": "stream",
     "text": [
      "Three side of traingle : 20.0,20.0,10.0\n",
      "Area of the Traingle is 96.825 square unit.\n"
     ]
    }
   ],
   "source": [
    "print(A1)\n",
    "A1.cal_area()"
   ]
  },
  {
   "cell_type": "markdown",
   "metadata": {},
   "source": [
    "1.2 : Write a function filter_long_words() that takes a list of words and an integer n and returns the list\n",
    "of words that are longer than n."
   ]
  },
  {
   "cell_type": "code",
   "execution_count": 60,
   "metadata": {},
   "outputs": [],
   "source": [
    "def filter_long_words(myseq,n):\n",
    "    result =[]\n",
    "    for i in myseq:\n",
    "        if len(i) > n :\n",
    "            result.append(i)\n",
    "    return result"
   ]
  },
  {
   "cell_type": "code",
   "execution_count": 61,
   "metadata": {},
   "outputs": [
    {
     "name": "stdout",
     "output_type": "stream",
     "text": [
      "Filter list with world greater than 3 is ['DDDD', 'EEEEE', 'FFFFFFFFFFF', 'GGGGGG', 'KKKKKK']\n"
     ]
    }
   ],
   "source": [
    "wordlist = ['A','BB','CCC','DDDD','EEEEE','FFFFFFFFFFF','GGGGGG','KKKKKK']\n",
    "\n",
    "n=3\n",
    "flist= filter_long_words(wordlist,n)\n",
    "print('Filter list with world greater than {} is {}'.format(n,flist))"
   ]
  },
  {
   "cell_type": "markdown",
   "metadata": {},
   "source": [
    "2.1 : Write a Python program using function concept that maps list of words into a list of integers\n",
    "representing the lengths of the corresponding words ."
   ]
  },
  {
   "cell_type": "code",
   "execution_count": 62,
   "metadata": {},
   "outputs": [],
   "source": [
    "def maplist(myseq):\n",
    "    result = []\n",
    "    for i in myseq:\n",
    "        result.append(len(i))\n",
    "    return result"
   ]
  },
  {
   "cell_type": "code",
   "execution_count": 63,
   "metadata": {},
   "outputs": [
    {
     "name": "stdout",
     "output_type": "stream",
     "text": [
      "Mapped List :[2, 3, 4]\n"
     ]
    }
   ],
   "source": [
    "L1 = ['ab','cde','erty']\n",
    "no_L1 = maplist(L1)\n",
    "print('Mapped List :{}'.format(no_L1))"
   ]
  },
  {
   "cell_type": "markdown",
   "metadata": {},
   "source": [
    "2.2 : Write a Python function which takes a character (i.e. a string of length 1) and returns True if it is\n",
    "a vowel, False otherwise."
   ]
  },
  {
   "cell_type": "code",
   "execution_count": 64,
   "metadata": {},
   "outputs": [],
   "source": [
    "def iden_vowel(cha):\n",
    "    if cha.lower() in ('a','e','i','o','u'):\n",
    "        return True\n",
    "    else:\n",
    "        return False"
   ]
  },
  {
   "cell_type": "code",
   "execution_count": 66,
   "metadata": {},
   "outputs": [
    {
     "name": "stdout",
     "output_type": "stream",
     "text": [
      "Enter the Character : F\n",
      "False\n"
     ]
    }
   ],
   "source": [
    "St1 = input('Enter the Character : ')\n",
    "\n",
    "print(iden_vowel(St1[0]))"
   ]
  },
  {
   "cell_type": "code",
   "execution_count": 67,
   "metadata": {},
   "outputs": [
    {
     "name": "stdout",
     "output_type": "stream",
     "text": [
      "Enter the Character : a\n",
      "True\n"
     ]
    }
   ],
   "source": [
    "St1 = input('Enter the Character : ')\n",
    "\n",
    "print(iden_vowel(St1[0]))"
   ]
  },
  {
   "cell_type": "code",
   "execution_count": null,
   "metadata": {},
   "outputs": [],
   "source": []
  },
  {
   "cell_type": "code",
   "execution_count": null,
   "metadata": {},
   "outputs": [],
   "source": []
  }
 ],
 "metadata": {
  "kernelspec": {
   "display_name": "Python 3",
   "language": "python",
   "name": "python3"
  },
  "language_info": {
   "codemirror_mode": {
    "name": "ipython",
    "version": 3
   },
   "file_extension": ".py",
   "mimetype": "text/x-python",
   "name": "python",
   "nbconvert_exporter": "python",
   "pygments_lexer": "ipython3",
   "version": "3.7.3"
  }
 },
 "nbformat": 4,
 "nbformat_minor": 2
}
